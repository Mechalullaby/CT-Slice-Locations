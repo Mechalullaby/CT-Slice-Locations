{
 "cells": [
  {
   "cell_type": "code",
   "execution_count": 1,
   "metadata": {},
   "outputs": [],
   "source": [
    "import numpy as np\n",
    "data = np.load('ct_data.npz')\n",
    "X_train = data['X_train']; X_val = data['X_val']; X_test = data['X_test']\n",
    "y_train = data['y_train']; y_val = data['y_val']; y_test = data['y_test']\n"
   ]
  },
  {
   "cell_type": "code",
   "execution_count": 2,
   "metadata": {},
   "outputs": [
    {
     "name": "stdout",
     "output_type": "stream",
     "text": [
      "(40754, 384)\n",
      "(5785, 384)\n",
      "(6961, 384)\n",
      "40754\n",
      "5785\n",
      "6961\n"
     ]
    }
   ],
   "source": [
    "print(X_train.shape)\n",
    "print(X_val.shape)\n",
    "print(X_test.shape)\n",
    "print(len(y_train))\n",
    "print(len(y_val))\n",
    "print(len(y_test))"
   ]
  },
  {
   "cell_type": "code",
   "execution_count": 3,
   "metadata": {},
   "outputs": [
    {
     "data": {
      "text/plain": [
       "0.11690313366502872"
      ]
     },
     "execution_count": 3,
     "metadata": {},
     "output_type": "execute_result"
    }
   ],
   "source": [
    "np.mean(y_test)"
   ]
  },
  {
   "cell_type": "code",
   "execution_count": 4,
   "metadata": {},
   "outputs": [
    {
     "data": {
      "text/plain": [
       "-9.13868774539957e-15"
      ]
     },
     "execution_count": 4,
     "metadata": {},
     "output_type": "execute_result"
    }
   ],
   "source": [
    "np.mean(y_train)"
   ]
  },
  {
   "cell_type": "code",
   "execution_count": 5,
   "metadata": {},
   "outputs": [
    {
     "data": {
      "text/plain": [
       "-0.2160085093241599"
      ]
     },
     "execution_count": 5,
     "metadata": {},
     "output_type": "execute_result"
    }
   ],
   "source": [
    "np.mean(y_val)"
   ]
  },
  {
   "cell_type": "markdown",
   "metadata": {},
   "source": [
    "# 1.\n",
    "### a). \n",
    "Report mean with a \"standard error\" in the `y_val` (should have 5,785 lines) and the first 5,785 entries in the `y_train`"
   ]
  },
  {
   "cell_type": "markdown",
   "metadata": {},
   "source": [
    "### b).\n",
    "Identify the features that take on the same value for every training example, and remove them in the three sets.\n",
    "\n",
    "Identify indentical columns in the training set and delete the later columns in the three sets.\n",
    "\n",
    "Report which columns of the `X_...` arrays we remove as 0-based indexs."
   ]
  },
  {
   "cell_type": "code",
   "execution_count": 6,
   "metadata": {},
   "outputs": [
    {
     "name": "stdout",
     "output_type": "stream",
     "text": [
      "[ 59  69 179 189 351]\n"
     ]
    },
    {
     "name": "stderr",
     "output_type": "stream",
     "text": [
      "C:\\Users\\DELL\\AppData\\Roaming\\Python\\Python36\\site-packages\\ipykernel_launcher.py:16: DeprecationWarning: Changing the shape of an F-contiguous array by descriptor assignment is deprecated. To maintain the Fortran contiguity of a multidimensional Fortran array, use 'a.T.view(...).T' instead\n",
      "  app.launch_new_instance()\n"
     ]
    },
    {
     "name": "stdout",
     "output_type": "stream",
     "text": [
      "[[ 76]\n",
      " [283]\n",
      " [354]\n",
      " [ 77]\n",
      " [195]\n",
      " [185]]\n"
     ]
    }
   ],
   "source": [
    "repeat = []\n",
    "duplicate = []\n",
    "\n",
    "for i in range(X_train.shape[1]): \n",
    "    chara = np.array(X_train[:,i])\n",
    "    trans = chara.tolist()\n",
    "    repeat.append(len(list(set(trans))))\n",
    "repeat = np.array(repeat)\n",
    "print(np.where(repeat == 1)[0])\n",
    "\n",
    "X_train = np.delete(X_train,np.where(repeat == 1)[0],axis=1)\n",
    "X_val = np.delete(X_val,np.where(repeat == 1)[0],axis=1)\n",
    "X_test = np.delete(X_test,np.where(repeat == 1)[0],axis=1)\n",
    "\n",
    "dt = np.dtype((np.void, X_train.dtype.itemsize * X_train.shape[0]))\n",
    "dataf = np.asfortranarray(X_train).view(dt)\n",
    "u,uind = np.unique(dataf, return_inverse=True)\n",
    "u = u.view(X_train.dtype).reshape(-1,X_train.shape[0]).T\n",
    "index = [np.where(uind==x)[0] for x in range(u.shape[0])]\n",
    "\n",
    "for i in index: \n",
    "    if len(i)>1:\n",
    "        duplicate.append(i[1:])\n",
    "duplicate = np.array(duplicate)   \n",
    "print(duplicate)\n",
    "\n",
    "for k in range(len(duplicate)):\n",
    "    X_train = np.delete(X_train, duplicate[k], axis=1)\n",
    "    X_val = np.delete(X_val, duplicate[k], axis=1)\n",
    "    X_test = np.delete(X_test, duplicate[k], axis=1)"
   ]
  },
  {
   "cell_type": "code",
   "execution_count": 7,
   "metadata": {},
   "outputs": [
    {
     "name": "stdout",
     "output_type": "stream",
     "text": [
      "(40754, 373)\n",
      "(5785, 373)\n",
      "(6961, 373)\n",
      "40754\n",
      "5785\n",
      "6961\n"
     ]
    }
   ],
   "source": [
    "print(X_train.shape)\n",
    "print(X_val.shape)\n",
    "print(X_test.shape)\n",
    "print(len(y_train))\n",
    "print(len(y_val))\n",
    "print(len(y_test))"
   ]
  },
  {
   "cell_type": "markdown",
   "metadata": {},
   "source": [
    "# 2. Linear regression baseline [15 marks]"
   ]
  },
  {
   "cell_type": "code",
   "execution_count": 8,
   "metadata": {},
   "outputs": [],
   "source": [
    "from ct_support_code import *\n",
    "def fit_linreg(X, yy, alpha):\n",
    "    n = X.shape[0]\n",
    "    # add a column of ones to X\n",
    "    X = np.hstack([X, np.ones(n).reshape(n,1)])\n",
    "\n",
    "    k = X.shape[1]\n",
    "    # add the regulation to X\n",
    "    X_tilde = np.vstack((X,np.sqrt(alpha)*np.eye(k)))\n",
    "\n",
    "    yy = np.append(yy,[0]*k) # for the regulation\n",
    "    return np.linalg.lstsq(X_tilde,yy)\n"
   ]
  },
  {
   "cell_type": "code",
   "execution_count": 9,
   "metadata": {},
   "outputs": [
    {
     "name": "stderr",
     "output_type": "stream",
     "text": [
      "C:\\Users\\DELL\\AppData\\Roaming\\Python\\Python36\\site-packages\\ipykernel_launcher.py:12: FutureWarning: `rcond` parameter will change to the default of machine precision times ``max(M, N)`` where M and N are the input matrix dimensions.\n",
      "To use the future default and silence this warning we advise to pass `rcond=None`, to keep using the old, explicitly pass `rcond=-1`.\n",
      "  if sys.path[0] == '':\n"
     ]
    }
   ],
   "source": [
    "fitmodel = fit_linreg(X_train, y_train, 30)\n",
    "gradopt = fit_linreg_gradopt(X_train, y_train, 30)"
   ]
  },
  {
   "cell_type": "markdown",
   "metadata": {},
   "source": [
    "Report the root-mean-square errors (RMSE) on the training and validation sets for the parameters fitted using both your fit_linreg and the provided fit_linreg_gradopt. Do you get exactly the same results? Why or why not?"
   ]
  },
  {
   "cell_type": "code",
   "execution_count": 10,
   "metadata": {},
   "outputs": [],
   "source": [
    "def rmse_linreg(fitmodel, X, yy):\n",
    "    w = fitmodel[0] # coeficients\n",
    "    n = X.shape[0]\n",
    "    X = np.hstack([X, np.ones(n).reshape(n,1)])\n",
    "    y_fit = np.dot(X, w)\n",
    "    return np.sqrt(sum((y_fit-yy)**2)/n)\n",
    "def rmse_gradopt(fitmodel, X, yy):\n",
    "    w = fitmodel[0] # coeficients\n",
    "    b = fitmodel[1]\n",
    "    n = X.shape[0]\n",
    "    y_fit = np.dot(X, w)+b\n",
    "    return np.sqrt(sum((y_fit-yy)**2)/n)\n",
    "\n"
   ]
  },
  {
   "cell_type": "code",
   "execution_count": 11,
   "metadata": {},
   "outputs": [
    {
     "name": "stdout",
     "output_type": "stream",
     "text": [
      "For fit_linreg:\n",
      "The RMSE for training set is 0.35787512881598177\n",
      "The RMSE for validation set is 0.42360525587678854\n",
      "For fit_linreg_gradopt:\n",
      "The RMSE for training set is 0.3578603283245702\n",
      "The RMSE for validation set is 0.42376229980833413\n"
     ]
    }
   ],
   "source": [
    "print('For fit_linreg:')\n",
    "print(f'The RMSE for training set is {rmse_linreg(fitmodel, X_train, y_train)}')\n",
    "print(f'The RMSE for validation set is {rmse_linreg(fitmodel, X_val, y_val)}')\n",
    "print('For fit_linreg_gradopt:')\n",
    "print(f'The RMSE for training set is {rmse_gradopt(gradopt, X_train, y_train)}')\n",
    "print(f'The RMSE for validation set is {rmse_gradopt(gradopt, X_val, y_val)}')"
   ]
  },
  {
   "cell_type": "code",
   "execution_count": 12,
   "metadata": {},
   "outputs": [
    {
     "data": {
      "text/plain": [
       "(40754, 231)"
      ]
     },
     "execution_count": 12,
     "metadata": {},
     "output_type": "execute_result"
    }
   ],
   "source": [
    "X_train[:, 0:231].shape"
   ]
  },
  {
   "cell_type": "code",
   "execution_count": 13,
   "metadata": {},
   "outputs": [
    {
     "name": "stderr",
     "output_type": "stream",
     "text": [
      "C:\\Users\\DELL\\AppData\\Roaming\\Python\\Python36\\site-packages\\ipykernel_launcher.py:12: FutureWarning: `rcond` parameter will change to the default of machine precision times ``max(M, N)`` where M and N are the input matrix dimensions.\n",
      "To use the future default and silence this warning we advise to pass `rcond=None`, to keep using the old, explicitly pass `rcond=-1`.\n",
      "  if sys.path[0] == '':\n"
     ]
    },
    {
     "data": {
      "text/plain": [
       "0.4092840089130781"
      ]
     },
     "execution_count": 13,
     "metadata": {},
     "output_type": "execute_result"
    }
   ],
   "source": [
    "rmse_linreg(fit_linreg(X_train[:, 0:231], y_train, 30), X_train[:, 0:231], y_train)"
   ]
  },
  {
   "cell_type": "markdown",
   "metadata": {},
   "source": [
    "# 3. Invented classification tasks"
   ]
  },
  {
   "cell_type": "code",
   "execution_count": 14,
   "metadata": {},
   "outputs": [
    {
     "name": "stdout",
     "output_type": "stream",
     "text": [
      "136.20446517858414\n",
      "52.69510551860815\n"
     ]
    }
   ],
   "source": [
    "import numpy as np\n",
    "\n",
    "K = 20 \n",
    "mx = np.max(y_train); mn = np.min(y_train); hh = (mx-mn)/(K+1)\n",
    "thresholds = np.linspace(mn+hh, mx-hh, num=K, endpoint=True)\n",
    "class_y_train = []\n",
    "for kk in range(K):\n",
    "    labels = y_train > thresholds[kk]\n",
    "    class_y_train.append(labels+0)\n",
    "class_y_train = np.array(class_y_train)\n",
    "    \n",
    "class_y_val = []\n",
    "for kk in range(K):\n",
    "    labels = y_val > thresholds[kk]\n",
    "    class_y_val.append(labels+0)\n",
    "class_y_val = np.array(class_y_val)\n",
    "\n",
    "from ct_support_code import *\n",
    "import numpy as np\n",
    "from scipy.optimize import minimize\n",
    "from scipy.linalg import cho_factor, cho_solve\n",
    "\n",
    "# fit the logistic regression model: \n",
    "def fit_logreg(X, yy, alpha): \n",
    "    D = X.shape[1]\n",
    "    args = (X, yy, alpha)\n",
    "    init = (np.zeros(D), np.array(0))\n",
    "    ww, bb = minimize_list(logreg_cost, init, args)\n",
    "    return ww, bb\n",
    "\n",
    "# fit the 20 logistic regression model: \n",
    "w_hat_m = []\n",
    "b_hat_v = []\n",
    "for i in range(20): \n",
    "    w_hat, b_hat = fit_logreg(X=X_train, yy=class_y_train[i], alpha=30)\n",
    "    w_hat_m.append(w_hat)\n",
    "    b_hat_v.append(b_hat)\n",
    "w_hat_m = np.array(w_hat_m).T\n",
    "b_hat_v = np.array(b_hat_v)\n",
    "\n",
    "# Train\n",
    "yy = 2*(class_y_train==1) - 1\n",
    "aa = yy.T * (np.dot(X_train, w_hat_m) + b_hat_v)\n",
    "# transformation of X_train matrix\n",
    "Tram_X_train = 1/(1 + np.exp(-aa))\n",
    "\n",
    "# Validation\n",
    "yy_val = 2*(class_y_val==1) - 1\n",
    "aa_val = yy_val.T * (np.dot(X_val, w_hat_m) + b_hat_v)\n",
    "# transformation of X_val matrix\n",
    "Val_X_train = 1/(1 + np.exp(-aa_val))\n",
    "\n",
    "# fit the linear model using transforming X matrix\n",
    "w_train, b_train = fit_linreg_gradopt(X=Tram_X_train, yy=y_train, alpha=30)\n",
    "w_val, b_val = fit_linreg_gradopt(X=Val_X_train, yy=y_val, alpha=30)\n",
    "\n",
    "# Calculating the RMSE\n",
    "def RMSE(para, X, yy):\n",
    "    ww = para[0] # coeficients\n",
    "    bb = para[1]\n",
    "    y_fit = np.dot(X, ww)+bb\n",
    "    return np.sqrt(sum((y_fit-yy)**2)/n)\n",
    "\n",
    "RMSE_T = RMSE(para = fit_linreg_gradopt(X=Tram_X_train, yy=y_train, alpha=30), X = Tram_X_train, yy = y_train)\n",
    "RMSE_V = RMSE(para = fit_linreg_gradopt(X=Val_X_train, yy=y_val, alpha=30), X = Val_X_train, yy = y_val)\n",
    "\n",
    "print(RMSE_T)\n",
    "print(RMSE_V)"
   ]
  },
  {
   "cell_type": "markdown",
   "metadata": {},
   "source": [
    "# 4. Small neural network"
   ]
  },
  {
   "cell_type": "code",
   "execution_count": 15,
   "metadata": {},
   "outputs": [
    {
     "name": "stdout",
     "output_type": "stream",
     "text": [
      "28.631114822794057\n",
      "28.603358884797796\n"
     ]
    }
   ],
   "source": [
    "from ct_support_code import *\n",
    "import numpy as np\n",
    "from scipy.optimize import minimize\n",
    "from scipy.linalg import cho_factor, cho_solve\n",
    "\n",
    "# a) Using random initialization of the parameters\n",
    "def fit_nn_random(X, yy, alpha): \n",
    "    args = (X, yy, alpha)\n",
    "    V = 0.1*np.random.randn(K, X.shape[1])/np.sqrt(X.shape[1])\n",
    "    bk = 0.1*np.random.randn(K)/np.sqrt(K)\n",
    "    ww = 0.1*np.random.randn(K)/np.sqrt(K)  \n",
    "    bb = 0.1*np.random.randn(1)\n",
    "    init = (ww, bb, V, bk)\n",
    "    ww, bb, V, bk = minimize_list(nn_cost, init, args)\n",
    "    return ww, bb, V, bk\n",
    "\n",
    "# b) Using parameters initialized using the fits made in Q3\n",
    "def fit_nn_logi(X, yy, alpha): \n",
    "    args = (X, yy, alpha)\n",
    "    V = w_hat_m.T\n",
    "    bk = b_hat_v\n",
    "    ww = w_train  \n",
    "    bb = b_train\n",
    "    init = (ww, bb, V, bk)\n",
    "    ww, bb, V, bk = minimize_list(nn_cost, init, args)\n",
    "    return ww, bb, V, bk\n",
    "\n",
    "# Prediction: \n",
    "np.random.seed(0)\n",
    "ww, bb, V, bk = fit_nn_random(X = X_train, yy = y_train, alpha = 30)\n",
    "para = (ww, bb, V, bk)\n",
    "RMSE_random = np.sqrt(sum((nn_cost(para, X=X_train, yy=None, alpha=None) - y_train)**2))\n",
    "www, bbb, VV, bkk = fit_nn_logi(X = X_train, yy = y_train, alpha = 30)\n",
    "para_logi = (www,bbb,VV,bkk)\n",
    "RMSE_logi = np.sqrt(sum((nn_cost(para_logi, X=X_train, yy=None, alpha=None) - y_train)**2))\n",
    "\n",
    "print(RMSE_random)\n",
    "print(RMSE_logi)"
   ]
  },
  {
   "cell_type": "markdown",
   "metadata": {},
   "source": [
    "# 5. Bayesian optimisation"
   ]
  },
  {
   "cell_type": "code",
   "execution_count": 16,
   "metadata": {},
   "outputs": [],
   "source": [
    "import numpy as np\n",
    "from ct_support_code import *\n",
    "import scipy.stats\n",
    "\n",
    "# trains the neural network for an alpha, returns the validation RMSE\n",
    "def train_nn_reg(X, yy, X_val, y_val, alpha):\n",
    "    ww, bb, V, bk = fit_nn_random(X, yy, alpha)\n",
    "    para = (ww, bb, V, bk)\n",
    "    y_fit = nn_cost(para, X=X_val)\n",
    "    return np.sqrt(sum((y_fit-y_val)**2)/len(y_fit))\n",
    "\n",
    "# function for generating y\n",
    "base = train_nn_reg(X_train, y_train, X_val, y_val, 30)\n",
    "def LRMSE(X, yy, X_val, y_val, alpha):\n",
    "    return np.log(base/train_nn_reg(X, yy, X_val, y_val, alpha))\n",
    "\n",
    "# select next alpha according to PoI\n",
    "def next_alpha(mu_star, cov_star, y_alpha):\n",
    "    PoI = scipy.stats.norm.pdf((mu_star - max(y_alpha))/np.sqrt(np.diag(cov_star)))\n",
    "    max_PoI = max(PoI)\n",
    "    max_alpha = X_star[np.where(PoI==max_PoI)[0][0]]\n",
    "    return max_PoI, max_alpha"
   ]
  },
  {
   "cell_type": "code",
   "execution_count": 17,
   "metadata": {},
   "outputs": [],
   "source": [
    "alphas = np.arange(0, 50, 0.02)\n",
    "# Pick three alphas from this set for as training locations, \n",
    "ind = len(alphas)/4\n",
    "X_alpha = alphas.take([ind-1,ind*2-1,ind*3-1])\n",
    "# remaining locations as values for the acquisition function\n",
    "X_star = np.setdiff1d(alphas, X_alpha)\n",
    "\n",
    "# generate y for the picked alpha\n",
    "y_alpha = np.zeros(len(X_alpha)) \n",
    "for i in range(len(X_alpha)):\n",
    "    y_alpha[i] = LRMSE(X_train, y_train, X_val, y_val, X_alpha[i])\n"
   ]
  },
  {
   "cell_type": "code",
   "execution_count": 18,
   "metadata": {},
   "outputs": [
    {
     "name": "stdout",
     "output_type": "stream",
     "text": [
      "The maximum probability of improvement is 0.3762439131308956, with alpha = 13.86, for iteration 1\n",
      "The maximum probability of improvement is 0.3622776781757357, with alpha = 9.08, for iteration 2\n",
      "The maximum probability of improvement is 0.34566890861340177, with alpha = 9.1, for iteration 3\n",
      "The maximum probability of improvement is 0.35452121459600816, with alpha = 9.06, for iteration 4\n",
      "The maximum probability of improvement is 0.3173822033001063, with alpha = 4.96, for iteration 5\n"
     ]
    }
   ],
   "source": [
    "# retrain, do five iterations\n",
    "iteration = 0\n",
    "while iteration < 5:\n",
    "    # calculate the posterior Gaussian Process\n",
    "    mu_star, cov_star = gp_post_par(X_star, X_alpha, y_alpha)\n",
    "    # select next alpha according to PoI\n",
    "    max_PoI, alpha_new = next_alpha(mu_star, cov_star, y_alpha)\n",
    "    iteration += 1\n",
    "    print(f'The maximum probability of improvement is {max_PoI}, with alpha = {alpha_new}, for iteration {iteration}')\n",
    "    X_alpha = np.append(X_alpha, alpha_new)\n",
    "    X_star = np.setdiff1d(alphas, X_alpha)\n",
    "    y_alpha = np.append(y_alpha, LRMSE(X_train, y_train, X_val, y_val, alpha_new))"
   ]
  },
  {
   "cell_type": "code",
   "execution_count": 19,
   "metadata": {},
   "outputs": [
    {
     "name": "stdout",
     "output_type": "stream",
     "text": [
      "The best alpha is 12.48, with its validation RMSE is 0.2582302787839227 and test RMSE is 0.2892353771241661\n"
     ]
    }
   ],
   "source": [
    "# report the best alpha\n",
    "best_alpha = X_alpha[np.where(y_alpha==max(y_alpha))[0][0]]\n",
    "\n",
    "val_RMSE = train_nn_reg(X_train, y_train, X_val, y_val, best_alpha)\n",
    "test_RMSE = train_nn_reg(X_train, y_train, X_test, y_test, best_alpha)\n",
    "\n",
    "print(f'The best alpha is {best_alpha}, with its validation RMSE is {val_RMSE} and test RMSE is {test_RMSE}')"
   ]
  },
  {
   "cell_type": "code",
   "execution_count": null,
   "metadata": {},
   "outputs": [
    {
     "data": {
      "text/plain": [
       "(array([8], dtype=int64),)"
      ]
     },
     "execution_count": 26,
     "metadata": {},
     "output_type": "execute_result"
    }
   ],
   "source": [
    "np.where(y_alpha==max(y_alpha))"
   ]
  },
  {
   "cell_type": "code",
   "execution_count": null,
   "metadata": {},
   "outputs": [
    {
     "data": {
      "text/plain": [
       "array([12.48, 24.98, 37.48, 13.86,  9.08,  9.1 ,  9.06,  4.96,  0.52])"
      ]
     },
     "execution_count": 19,
     "metadata": {},
     "output_type": "execute_result"
    }
   ],
   "source": [
    "X_alpha"
   ]
  },
  {
   "cell_type": "code",
   "execution_count": 31,
   "metadata": {},
   "outputs": [
    {
     "data": {
      "text/plain": [
       "20.798679726995577"
      ]
     },
     "execution_count": 31,
     "metadata": {},
     "output_type": "execute_result"
    }
   ],
   "source": [
    "base"
   ]
  },
  {
   "cell_type": "markdown",
   "metadata": {},
   "source": [
    "The model is improved with smaller validation and test RMSEs. The observation noise can come from the random selection of initial parameters in the neural network. "
   ]
  },
  {
   "cell_type": "markdown",
   "metadata": {},
   "source": [
    "# 6. What next"
   ]
  },
  {
   "cell_type": "code",
   "execution_count": 7,
   "metadata": {},
   "outputs": [],
   "source": [
    "import lightgbm as lgb\n",
    "# 初始化模型\n",
    "LGBR = lgb.LGBMRegressor() # 基模型\n",
    "# 训练/fit拟合\n",
    "LGBR.fit(X_train, y_train)\n",
    "# 预测\n",
    "y_pred = LGBR.predict(X_test)\n",
    "# 评估\n",
    "rmse = np.sqrt(sum((y_pred-y_test)**2))"
   ]
  },
  {
   "cell_type": "code",
   "execution_count": 8,
   "metadata": {},
   "outputs": [
    {
     "data": {
      "text/plain": [
       "28.153938563854627"
      ]
     },
     "execution_count": 8,
     "metadata": {},
     "output_type": "execute_result"
    }
   ],
   "source": [
    "rmse"
   ]
  },
  {
   "cell_type": "code",
   "execution_count": 33,
   "metadata": {},
   "outputs": [
    {
     "data": {
      "text/plain": [
       "(5785, 373)"
      ]
     },
     "execution_count": 33,
     "metadata": {},
     "output_type": "execute_result"
    }
   ],
   "source": [
    "X_val.shape"
   ]
  },
  {
   "cell_type": "code",
   "execution_count": 40,
   "metadata": {},
   "outputs": [
    {
     "data": {
      "text/plain": [
       "array([ 0.      ,  0.      ,  0.      ,  0.      ,  0.      ,  0.      ,\n",
       "       -0.25    , -0.25    , -0.25    , -0.25    ,  0.      ,  0.      ,\n",
       "        0.      ,  0.8     ,  0.      ,  0.      ,  0.      , -0.25    ,\n",
       "       -0.25    , -0.25    ,  0.      ,  0.      ,  0.      ,  0.956533,\n",
       "        0.8521  ,  0.      ,  0.      ,  0.      ,  0.      , -0.25    ,\n",
       "        0.      ,  0.      ,  0.      ,  0.932476,  0.960794,  0.      ,\n",
       "        0.      ,  0.      ,  0.      ,  0.      ,  0.      ,  0.      ,\n",
       "        0.      ,  0.791258,  0.979383,  0.8725  ,  0.      ,  0.      ,\n",
       "        0.      , -0.25    ,  0.      ,  0.      ,  0.      ,  0.      ,\n",
       "        0.16    ,  0.979998,  0.954111,  0.      , -0.25    ,  0.      ,\n",
       "        0.      ,  0.      ,  0.      ,  0.689167,  0.987036,  0.92411 ,\n",
       "        0.      , -0.25    ,  0.      ,  0.      ,  0.      ,  0.867052,\n",
       "        0.975287,  0.813456,  0.      ,  0.      , -0.25    ,  0.      ,\n",
       "        0.      ,  0.934405,  0.903144,  0.      ,  0.      ,  0.      ,\n",
       "        0.      ,  0.      ,  0.      ,  0.      ,  0.      ,  0.977522,\n",
       "        0.216   ,  0.      ,  0.      ,  0.      ,  0.      , -0.25    ,\n",
       "        0.      ,  0.      ,  0.      ,  0.      ,  0.      ,  0.      ,\n",
       "        0.      , -0.25    , -0.25    , -0.25    ,  0.      ,  0.      ,\n",
       "        0.      ,  0.      ,  0.      ,  0.      , -0.25    , -0.25    ,\n",
       "       -0.25    , -0.25    ,  0.      ,  0.      ,  0.      ,  0.      ,\n",
       "        0.      ,  0.      , -0.25    , -0.25    , -0.25    , -0.25    ,\n",
       "        0.      ,  0.      ,  0.      ,  0.      ,  0.      ,  0.      ,\n",
       "        0.      , -0.25    , -0.25    , -0.25    ,  0.      ,  0.      ,\n",
       "        0.      ,  0.      ,  0.      ,  0.      ,  0.      ,  0.      ,\n",
       "        0.      , -0.25    ,  0.615385,  0.81448 ,  0.98211 ,  0.236967,\n",
       "        0.      ,  0.      ,  0.      ,  0.      ,  0.      ,  0.      ,\n",
       "        0.825   ,  0.868957,  0.912158,  0.494234,  0.      ,  0.      ,\n",
       "        0.      ,  0.      ,  0.      , -0.25    ,  0.802469,  0.529412,\n",
       "        0.      ,  0.939733,  0.856388,  0.      ,  0.      ,  0.      ,\n",
       "       -0.25    ,  0.857595,  0.853659,  0.589474,  0.558042,  0.      ,\n",
       "        0.      ,  0.      ,  0.      , -0.25    ,  0.910979,  0.938913,\n",
       "        0.584594,  0.      ,  0.      ,  0.      ,  0.      ,  0.      ,\n",
       "       -0.25    ,  0.      ,  0.829091,  0.394059,  0.      ,  0.      ,\n",
       "        0.      ,  0.      ,  0.      ,  0.      ,  0.      ,  0.609023,\n",
       "        0.686546,  0.      ,  0.      ,  0.      ,  0.      ,  0.      ,\n",
       "        0.      , -0.25    ,  0.      ,  0.      ,  0.      ,  0.      ,\n",
       "        0.      ,  0.      ,  0.      , -0.25    , -0.25    , -0.25    ,\n",
       "        0.      ,  0.      ,  0.      ,  0.      ,  0.      ,  0.      ,\n",
       "       -0.25    , -0.25    , -0.25    ])"
      ]
     },
     "execution_count": 40,
     "metadata": {},
     "output_type": "execute_result"
    }
   ],
   "source": [
    "X_train[:, 0:231][0]"
   ]
  },
  {
   "cell_type": "code",
   "execution_count": 34,
   "metadata": {},
   "outputs": [
    {
     "data": {
      "text/plain": [
       "array([[ 0.989669,  0.      ,  0.      , ...,  0.      ,  0.      ,\n",
       "        -0.25    ],\n",
       "       [ 0.      ,  0.      ,  0.      , ...,  0.      ,  0.      ,\n",
       "        -0.25    ],\n",
       "       [ 0.      ,  0.      ,  0.      , ...,  0.      ,  0.      ,\n",
       "        -0.25    ],\n",
       "       ...,\n",
       "       [ 0.      ,  0.918251,  0.      , ...,  0.      ,  0.      ,\n",
       "         0.      ],\n",
       "       [ 0.      ,  0.      ,  0.      , ...,  0.      ,  0.      ,\n",
       "         0.      ],\n",
       "       [ 0.      ,  0.      ,  0.999534, ...,  0.      ,  0.      ,\n",
       "        -0.25    ]])"
      ]
     },
     "execution_count": 34,
     "metadata": {},
     "output_type": "execute_result"
    }
   ],
   "source": [
    "X_val[:, 232:373]"
   ]
  },
  {
   "cell_type": "code",
   "execution_count": 7,
   "metadata": {},
   "outputs": [],
   "source": [
    "from tensorflow.keras import layers\n",
    "from tensorflow.keras.models import Model\n",
    "from sklearn.metrics import mean_squared_error\n"
   ]
  },
  {
   "cell_type": "code",
   "execution_count": 44,
   "metadata": {},
   "outputs": [
    {
     "name": "stdout",
     "output_type": "stream",
     "text": [
      "1274/1274 [==============================] - 2s 1ms/step - loss: 0.1182\n"
     ]
    },
    {
     "data": {
      "text/plain": [
       "<keras.callbacks.History at 0x261a7d42828>"
      ]
     },
     "execution_count": 44,
     "metadata": {},
     "output_type": "execute_result"
    }
   ],
   "source": [
    "#create two hidden layer and output layer\n",
    "\n",
    "input=layers.Input(shape=(373,))\n",
    "x=layers.Dense(64,activation=\"relu\")(input)\n",
    "x=layers.Dense(32,activation=\"relu\")(x)\n",
    "output=layers.Dense(1,activation=\"linear\")(x)\n",
    "\n",
    "# fit the model\n",
    "model=Model(input,output)\n",
    "model.compile(optimizer=\"adam\",loss=\"mae\")\n",
    "model.fit(X_train,y_train)"
   ]
  },
  {
   "cell_type": "code",
   "execution_count": 46,
   "metadata": {},
   "outputs": [
    {
     "name": "stdout",
     "output_type": "stream",
     "text": [
      "The test RMSE is 0.26799148792898464.\n",
      "The validation RMSE is 0.2399578750867347.\n"
     ]
    }
   ],
   "source": [
    "# evaluation\n",
    "pred = model.predict(X_test)\n",
    "rmse = np.sqrt(mean_squared_error(y_test, pred))\n",
    "print(\"The test RMSE is {}.\".format(rmse))\n",
    "\n",
    "pred2 = model.predict(X_val)\n",
    "rmse2 = np.sqrt(mean_squared_error(y_val, pred2))\n",
    "print(\"The validation RMSE is {}.\".format(rmse2))"
   ]
  },
  {
   "cell_type": "markdown",
   "metadata": {},
   "source": [
    "# 一些参考的code"
   ]
  },
  {
   "cell_type": "code",
   "execution_count": null,
   "metadata": {},
   "outputs": [
    {
     "data": {
      "image/png": "[encoded data removed]",
      "text/plain": [
       "<Figure size 432x288 with 2 Axes>"
      ]
     },
     "metadata": {
      "needs_background": "light"
     },
     "output_type": "display_data"
    }
   ],
   "source": [
    "import matplotlib.pyplot as plt\n",
    "import numpy as np\n",
    "from ct_support_code import *\n",
    "\n",
    "#高斯核函数\n",
    "def gaussian_kernel(x1, x2, l=0.5, sigma_f=0.2):\n",
    "    m, n = x1.shape[0], x2.shape[0]\n",
    "    dist_matrix = np.zeros((m, n), dtype=float)\n",
    "    for i in range(m):\n",
    "        for j in range(n):\n",
    "            dist_matrix[i][j] = np.sum((x1[i] - x2[j]) ** 2)\n",
    "    return sigma_f ** 2 * np.exp(- 0.5 / l ** 2 * dist_matrix)\n",
    "\n",
    "\n",
    "#生成观测值，取sin函数没有别的用意，单纯就是为了计算出Y\n",
    "def getY(X):\n",
    "    X = np.asarray(X)\n",
    "    Y = np.sin(X)*0.4 + np.random.normal(0, 0.05, size=X.shape)\n",
    "    return Y.tolist()\n",
    "\n",
    "#根据观察点X，修正生成高斯过程新的均值和协方差\n",
    "def update(X, X_star):\n",
    "    X = np.asarray(X)\n",
    "    X_star = np.asarray(X_star)\n",
    "    K_YY = gaussian_kernel(X, X)  # K(X,X)\n",
    "    K_ff = gaussian_kernel(X_star, X_star)  # K(X*, X*)\n",
    "    K_Yf = gaussian_kernel(X, X_star)  # K(X, X*)\n",
    "    K_fY = K_Yf.T # K(X*, X) 协方差矩阵是对称的，因此分块互为转置\n",
    "    K_YY_inv = np.linalg.inv(K_YY + 1e-8 * np.eye(len(X)))  # (N, N)\n",
    "    \n",
    "    mu_star = K_fY.dot(K_YY_inv).dot(Y)\n",
    "    cov_star = K_ff - K_fY.dot(K_YY_inv).dot(K_Yf)\n",
    "    return mu_star, cov_star\n",
    "\n",
    "\n",
    "f, ax = plt.subplots(2, 1, sharex=True,sharey=True)\n",
    "#绘制高斯过程的先验\n",
    "X_pre = np.arange(0, 10, 0.1)\n",
    "mu_pre = np.array([0]*len(X_pre))\n",
    "Y_pre = mu_pre\n",
    "cov_pre = gaussian_kernel(X_pre, X_pre)\n",
    "uncertainty = 1.96 * np.sqrt(np.diag(cov_pre))#取95%置信区间\n",
    "ax[0].fill_between(X_pre, Y_pre + uncertainty,Y_pre - uncertainty, alpha=0.1)\n",
    "ax[0].plot(X_pre, Y_pre, label=\"expection\")\n",
    "ax[0].legend()\n",
    "\n",
    "\n",
    "#绘制基于观测值的高斯过程后验\n",
    "X = np.array([1, 3, 7, 9]).reshape(-1, 1)#4*1矩阵\n",
    "Y = getY(X)\n",
    "X_star = np.arange(0, 10, 0.1).reshape(-1, 1)\n",
    "mu_star, cov_star = update(X, X_star)\n",
    "Y_star = mu_star.ravel()\n",
    "uncertainty = 1.96 * np.sqrt(np.diag(cov_star))#取95%置信区间\n",
    "ax[1].fill_between(X_star.ravel(), Y_star + uncertainty, Y_star - uncertainty, alpha=0.1)\n",
    "ax[1].plot(X_star, Y_star, label=\"expection\")\n",
    "ax[1].scatter(X, Y, label=\"observation point\", c=\"red\", marker=\"x\")\n",
    "ax[1].legend()\n",
    "plt.show()"
   ]
  }
 ],
 "metadata": {
  "kernelspec": {
   "display_name": "Python 3.6.8 64-bit",
   "language": "python",
   "name": "python3"
  },
  "language_info": {
   "codemirror_mode": {
    "name": "ipython",
    "version": 3
   },
   "file_extension": ".py",
   "mimetype": "text/x-python",
   "name": "python",
   "nbconvert_exporter": "python",
   "pygments_lexer": "ipython3",
   "version": "3.6.8 (tags/v3.6.8:3c6b436a57, Dec 24 2018, 00:16:47) [MSC v.1916 64 bit (AMD64)]"
  },
  "orig_nbformat": 4,
  "vscode": {
   "interpreter": {
    "hash": "fa8efa1f07d927b3f4f0623653dba6f2d02f31e75a8ec0b738cb3a1952f48903"
   }
  }
 },
 "nbformat": 4,
 "nbformat_minor": 2
}
